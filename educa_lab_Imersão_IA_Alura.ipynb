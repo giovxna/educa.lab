{
  "nbformat": 4,
  "nbformat_minor": 0,
  "metadata": {
    "colab": {
      "provenance": []
    },
    "kernelspec": {
      "name": "python3",
      "display_name": "Python 3"
    },
    "language_info": {
      "name": "python"
    }
  },
  "cells": [
    {
      "cell_type": "code",
      "source": [
        "!pip install -q google-genai google-adk"
      ],
      "metadata": {
        "id": "7mIIOqqruaoi"
      },
      "execution_count": 24,
      "outputs": []
    },
    {
      "cell_type": "code",
      "source": [
        "import os\n",
        "import textwrap\n",
        "import warnings\n",
        "from datetime import date\n",
        "from google.colab import userdata\n",
        "from IPython.display import display, Markdown\n",
        "from google import genai\n",
        "from google.adk.agents import Agent\n",
        "from google.adk.runners import Runner\n",
        "from google.adk.sessions import InMemorySessionService\n",
        "from google.adk.tools import google_search\n",
        "from google.genai import types"
      ],
      "metadata": {
        "id": "BBpt8l4Hucgm"
      },
      "execution_count": 12,
      "outputs": []
    },
    {
      "cell_type": "code",
      "source": [
        "# Configuração da API\n",
        "os.environ[\"GOOGLE_API_KEY\"] = userdata.get(\"GOOGLE_API_KEY\")\n",
        "client = genai.Client()"
      ],
      "metadata": {
        "id": "AW-U5c1Tw72T"
      },
      "execution_count": 13,
      "outputs": []
    },
    {
      "cell_type": "code",
      "source": [
        "warnings.filterwarnings(\"ignore\")\n",
        "client = genai.Client()\n",
        "MODEL_ID = \"gemini-2.0-flash\""
      ],
      "metadata": {
        "id": "2luHnjDtue7h"
      },
      "execution_count": 19,
      "outputs": []
    },
    {
      "cell_type": "code",
      "source": [
        "# Função auxiliar para executar agente\n",
        "\n",
        "def to_markdown(text):\n",
        "    text = text.replace('•', '  *')\n",
        "    return Markdown(textwrap.indent(text, '> ', predicate=lambda _: True))\n",
        "\n",
        "def call_agent(agent: Agent, message_text: str) -> str:\n",
        "    session_service = InMemorySessionService()\n",
        "    session = session_service.create_session(app_name=agent.name, user_id=\"user1\", session_id=\"session1\")\n",
        "    runner = Runner(agent=agent, app_name=agent.name, session_service=session_service)\n",
        "    content = types.Content(role=\"user\", parts=[types.Part(text=message_text)])\n",
        "\n",
        "    final_response = \"\"\n",
        "    for event in runner.run(user_id=\"user1\", session_id=\"session1\", new_message=content):\n",
        "        if event.is_final_response():\n",
        "            for part in event.content.parts:\n",
        "                if part.text is not None:\n",
        "                    final_response += part.text + \"\\n\"\n",
        "    return final_response"
      ],
      "metadata": {
        "id": "HpS3q2jDxHND"
      },
      "execution_count": 20,
      "outputs": []
    },
    {
      "cell_type": "code",
      "source": [
        "def criar_agente_explicador(modo_usuario):\n",
        "    instrucoes = {\n",
        "        \"infantil\": \"Explique como se o usuário tivesse 5 anos. Use analogias com brinquedos, animais e situações do cotidiano de uma criança.\",\n",
        "        \"ensino_medio\": \"Explique como para um estudante do ensino médio, com exemplos aplicados, mas sem termos muito técnicos.\",\n",
        "        \"adulto\": \"Explique de forma clara, objetiva e técnica, como para um adulto curioso.\",\n",
        "        \"fofoca\": \"Explique como se fosse uma fofoca entre amigos. Use humor, gírias leves e analogias engraçadas como se estivesse contando um babado.\",\n",
        "        \"memes\": \"Explique com tom de meme e linguagem da internet. Use emojis, hashtags e expressões engraçadas.\"\n",
        "    }\n",
        "\n",
        "    return Agent(\n",
        "        name=\"agente_explicador\",\n",
        "        model=MODEL_ID,\n",
        "        instruction=instrucoes.get(modo_usuario, \"Explique de forma clara e divertida.\"),\n",
        "        description=\"Agente que explica conceitos com o estilo desejado.\"\n",
        "    )\n",
        "\n",
        "def agente_quiz(assunto):\n",
        "    quiz = Agent(\n",
        "        name=\"agente_quiz\",\n",
        "        model=MODEL_ID,\n",
        "        instruction=\"Crie uma pergunta ou desafio simples para testar se o usuário aprendeu o conteúdo.\",\n",
        "        description=\"Agente que cria um quiz ou desafio.\"\n",
        "    )\n",
        "    return call_agent(quiz, f\"Crie uma pergunta para testar o conhecimento sobre: {assunto}\")\n",
        "\n",
        "def agente_link_alura(assunto):\n",
        "    link = Agent(\n",
        "        name=\"agente_alura\",\n",
        "        model=MODEL_ID,\n",
        "        instruction=\"Sugira um curso da Alura que aprofunde esse tema.\",\n",
        "        description=\"Agente que sugere cursos da Alura.\"\n",
        "    )\n",
        "    return call_agent(link, f\"Sugira um curso da Alura para aprender mais sobre: {assunto}\")"
      ],
      "metadata": {
        "id": "UTRK8teSxKIn"
      },
      "execution_count": 21,
      "outputs": []
    },
    {
      "cell_type": "code",
      "source": [
        "def educa_lab(assunto, tempo, modo):\n",
        "    explicador = criar_agente_explicador(modo)\n",
        "    prompt = f\"Explique o conceito de '{assunto}' em no máximo {tempo} minutos.\"\n",
        "    explicacao = call_agent(explicador, prompt)\n",
        "    quiz = agente_quiz(assunto)\n",
        "    link = agente_link_alura(assunto)\n",
        "\n",
        "    print(\"\\n📚 Explicação personalizada:\\n\")\n",
        "    display(to_markdown(explicacao))\n",
        "\n",
        "    print(\"\\n❓ Pergunta rápida para testar aprendizado:\\n\")\n",
        "    display(to_markdown(quiz))\n",
        "\n",
        "    print(\"\\n📎 Para saber mais:\\n\")\n",
        "    display(to_markdown(link))\n",
        "\n",
        "# ---------- Execução principal ---------- #\n",
        "\n",
        "def iniciar_educa_lab():\n",
        "    while True:\n",
        "        assunto = input(\"\\nQuero aprender sobre: \")\n",
        "        tempo = input(\"Tempo que tenho (2, 5, 10, 15 minutos): \")\n",
        "\n",
        "        print(\"\\n🧠 Como você quer aprender?\")\n",
        "        print(\"1 - Como se eu tivesse 5 anos 👶\")\n",
        "        print(\"2 - Como estudante do ensino médio 🧑\")\n",
        "        print(\"3 - Como adulto curioso 👩‍🎓\")\n",
        "        print(\"4 - Com analogias e fofoca 🤪\")\n",
        "        print(\"5 - Em memes 😂\")\n",
        "        print(\"9 - Surpreenda-me com o estilo! 🎲\")\n",
        "\n",
        "        modo_map = {\n",
        "            \"1\": \"infantil\",\n",
        "            \"2\": \"ensino_medio\",\n",
        "            \"3\": \"adulto\",\n",
        "            \"4\": \"fofoca\",\n",
        "            \"5\": \"memes\"\n",
        "        }\n",
        "\n",
        "        modo_escolhido = input(\"Escolha um número: \")\n",
        "\n",
        "        if modo_escolhido == \"9\":\n",
        "            import random\n",
        "            modo = random.choice(list(modo_map.values()))\n",
        "            print(f\"✨ Estilo sorteado: {modo}\")\n",
        "        else:\n",
        "            modo = modo_map.get(modo_escolhido, \"adulto\")\n",
        "\n",
        "        educa_lab(assunto, tempo, modo)\n",
        "\n",
        "        repetir = input(\"\\n🔁 Quer aprender outro assunto? (s/n): \").lower()\n",
        "        if repetir != 's':\n",
        "            print(\"\\nAté a próxima! 👋\")\n",
        "            break"
      ],
      "metadata": {
        "id": "7ZBLooNKuh5Q"
      },
      "execution_count": 26,
      "outputs": []
    },
    {
      "cell_type": "code",
      "source": [
        "# Executar o app\n",
        "iniciar_educa_lab()"
      ],
      "metadata": {
        "id": "LS4stVHmCcLV"
      },
      "execution_count": null,
      "outputs": []
    }
  ]
}