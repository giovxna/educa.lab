{
  "cells": [
    {
      "cell_type": "markdown",
      "metadata": {
        "id": "view-in-github",
        "colab_type": "text"
      },
      "source": [
        "<a href=\"https://colab.research.google.com/github/giovxna/educa.lab/blob/main/educa_lab_Imers%C3%A3o_IA_Alura.ipynb\" target=\"_parent\"><img src=\"https://colab.research.google.com/assets/colab-badge.svg\" alt=\"Open In Colab\"/></a>"
      ]
    },
    {
      "cell_type": "code",
      "execution_count": null,
      "metadata": {
        "id": "7mIIOqqruaoi"
      },
      "outputs": [],
      "source": [
        "!pip install -q google-genai google-adk"
      ]
    },
    {
      "cell_type": "code",
      "execution_count": null,
      "metadata": {
        "id": "BBpt8l4Hucgm"
      },
      "outputs": [],
      "source": [
        "import os\n",
        "import textwrap\n",
        "import warnings\n",
        "from datetime import date\n",
        "from google.colab import userdata\n",
        "from IPython.display import display, Markdown\n",
        "from google import genai\n",
        "from google.adk.agents import Agent\n",
        "from google.adk.runners import Runner\n",
        "from google.adk.sessions import InMemorySessionService\n",
        "from google.adk.tools import google_search\n",
        "from google.genai import types"
      ]
    },
    {
      "cell_type": "code",
      "execution_count": null,
      "metadata": {
        "id": "AW-U5c1Tw72T"
      },
      "outputs": [],
      "source": [
        "# Configuração da API\n",
        "os.environ[\"GOOGLE_API_KEY\"] = userdata.get(\"GOOGLE_API_KEY\")\n",
        "client = genai.Client()"
      ]
    },
    {
      "cell_type": "code",
      "execution_count": null,
      "metadata": {
        "id": "2luHnjDtue7h"
      },
      "outputs": [],
      "source": [
        "warnings.filterwarnings(\"ignore\")\n",
        "client = genai.Client()\n",
        "MODEL_ID = \"gemini-2.0-flash\""
      ]
    },
    {
      "cell_type": "code",
      "execution_count": null,
      "metadata": {
        "id": "HpS3q2jDxHND"
      },
      "outputs": [],
      "source": [
        "# Função auxiliar para executar agente\n",
        "\n",
        "def to_markdown(text):\n",
        "    text = text.replace('•', '  *')\n",
        "    return Markdown(textwrap.indent(text, '> ', predicate=lambda _: True))\n",
        "\n",
        "def call_agent(agent: Agent, message_text: str) -> str:\n",
        "    session_service = InMemorySessionService()\n",
        "    session = session_service.create_session(app_name=agent.name, user_id=\"user1\", session_id=\"session1\")\n",
        "    runner = Runner(agent=agent, app_name=agent.name, session_service=session_service)\n",
        "    content = types.Content(role=\"user\", parts=[types.Part(text=message_text)])\n",
        "\n",
        "    final_response = \"\"\n",
        "    for event in runner.run(user_id=\"user1\", session_id=\"session1\", new_message=content):\n",
        "        if event.is_final_response():\n",
        "            for part in event.content.parts:\n",
        "                if part.text is not None:\n",
        "                    final_response += part.text + \"\\n\"\n",
        "    return final_response"
      ]
    },
    {
      "cell_type": "code",
      "execution_count": null,
      "metadata": {
        "id": "UTRK8teSxKIn"
      },
      "outputs": [],
      "source": [
        "def criar_agente_explicador(modo_usuario):\n",
        "    instrucoes = {\n",
        "        \"infantil\": \"Explique como se o usuário tivesse 5 anos. Use analogias com brinquedos, animais e situações do cotidiano de uma criança.\",\n",
        "        \"ensino_medio\": \"Explique como para um estudante do ensino médio, com exemplos aplicados, mas sem termos muito técnicos.\",\n",
        "        \"adulto\": \"Explique de forma clara, objetiva e técnica, como para um adulto curioso.\",\n",
        "        \"fofoca\": \"Explique como se fosse uma fofoca entre amigos. Use humor, gírias leves e analogias engraçadas como se estivesse contando um babado.\",\n",
        "        \"memes\": \"Explique com tom de meme e linguagem da internet. Use emojis, hashtags e expressões engraçadas.\"\n",
        "    }\n",
        "\n",
        "    return Agent(\n",
        "        name=\"agente_explicador\",\n",
        "        model=MODEL_ID,\n",
        "        instruction=instrucoes.get(modo_usuario, \"Explique de forma clara e divertida.\"),\n",
        "        description=\"Agente que explica conceitos com o estilo desejado.\"\n",
        "    )\n",
        "\n",
        "def agente_quiz(assunto):\n",
        "    quiz = Agent(\n",
        "        name=\"agente_quiz\",\n",
        "        model=MODEL_ID,\n",
        "        instruction=\"Crie uma pergunta ou desafio simples para testar se o usuário aprendeu o conteúdo.\",\n",
        "        description=\"Agente que cria um quiz ou desafio.\"\n",
        "    )\n",
        "    return call_agent(quiz, f\"Crie uma pergunta para testar o conhecimento sobre: {assunto}\")\n",
        "\n",
        "def agente_link_alura(assunto):\n",
        "    link = Agent(\n",
        "        name=\"agente_alura\",\n",
        "        model=MODEL_ID,\n",
        "        instruction=\"Sugira um curso da Alura que aprofunde esse tema.\",\n",
        "        description=\"Agente que sugere cursos da Alura.\"\n",
        "    )\n",
        "    return call_agent(link, f\"Sugira um curso da Alura para aprender mais sobre: {assunto}\")"
      ]
    },
    {
      "cell_type": "code",
      "execution_count": null,
      "metadata": {
        "id": "7ZBLooNKuh5Q"
      },
      "outputs": [],
      "source": [
        "def educa_lab(assunto, tempo, modo):\n",
        "    explicador = criar_agente_explicador(modo)\n",
        "    prompt = f\"Explique o conceito de '{assunto}' em no máximo {tempo} minutos.\"\n",
        "    explicacao = call_agent(explicador, prompt)\n",
        "    quiz = agente_quiz(assunto)\n",
        "    link = agente_link_alura(assunto)\n",
        "\n",
        "    print(\"\\n📚 Explicação personalizada:\\n\")\n",
        "    display(to_markdown(explicacao))\n",
        "\n",
        "    print(\"\\n❓ Pergunta rápida para testar aprendizado:\\n\")\n",
        "    display(to_markdown(quiz))\n",
        "\n",
        "    print(\"\\n📎 Para saber mais:\\n\")\n",
        "    display(to_markdown(link))\n",
        "\n",
        "# ---------- Execução principal ---------- #\n",
        "\n",
        "def iniciar_educa_lab():\n",
        "    while True:\n",
        "        assunto = input(\"\\nQuero aprender sobre: \")\n",
        "        tempo = input(\"Tempo que tenho (2, 5, 10, 15 minutos): \")\n",
        "\n",
        "        print(\"\\n🧠 Como você quer aprender?\")\n",
        "        print(\"1 - Como se eu tivesse 5 anos 👶\")\n",
        "        print(\"2 - Como estudante do ensino médio 🧑\")\n",
        "        print(\"3 - Como adulto curioso 👩‍🎓\")\n",
        "        print(\"4 - Com analogias e fofoca 🤪\")\n",
        "        print(\"5 - Em memes 😂\")\n",
        "        print(\"9 - Surpreenda-me com o estilo! 🎲\")\n",
        "\n",
        "        modo_map = {\n",
        "            \"1\": \"infantil\",\n",
        "            \"2\": \"ensino_medio\",\n",
        "            \"3\": \"adulto\",\n",
        "            \"4\": \"fofoca\",\n",
        "            \"5\": \"memes\"\n",
        "        }\n",
        "\n",
        "        modo_escolhido = input(\"Escolha um número: \")\n",
        "\n",
        "        if modo_escolhido == \"9\":\n",
        "            import random\n",
        "            modo = random.choice(list(modo_map.values()))\n",
        "            print(f\"✨ Estilo sorteado: {modo}\")\n",
        "        else:\n",
        "            modo = modo_map.get(modo_escolhido, \"adulto\")\n",
        "\n",
        "        educa_lab(assunto, tempo, modo)\n",
        "\n",
        "        repetir = input(\"\\n🔁 Quer aprender outro assunto? (s/n): \").lower()\n",
        "        if repetir != 's':\n",
        "            print(\"\\nAté a próxima! 👋\")\n",
        "            break"
      ]
    },
    {
      "cell_type": "code",
      "execution_count": null,
      "metadata": {
        "colab": {
          "background_save": true,
          "base_uri": "https://localhost:8080/",
          "height": 1000
        },
        "id": "LS4stVHmCcLV",
        "outputId": "bf33d873-7227-4f26-9ced-684d4af1736a"
      },
      "outputs": [
        {
          "name": "stdout",
          "output_type": "stream",
          "text": [
            "\n",
            "🧠 Como você quer aprender?\n",
            "1 - Como se eu tivesse 5 anos 👶\n",
            "2 - Como estudante do ensino médio 🧑\n",
            "3 - Como adulto curioso 👩‍🎓\n",
            "4 - Com analogias e fofoca 🤪\n",
            "5 - Em memes 😂\n",
            "9 - Surpreenda-me com o estilo! 🎲\n",
            "✨ Estilo sorteado: ensino_medio\n",
            "\n",
            "📚 Explicação personalizada:\n",
            "\n"
          ]
        },
        {
          "data": {
            "text/markdown": "> Olá! Vamos desvendar o que é uma \"planta\" de forma bem simples e direta, como se estivéssemos conversando no recreio.\n> \n> **O que é uma Planta?**\n> \n> Imagine uma casa antes de ser construída. O arquiteto faz um desenho mostrando como cada cômodo vai ficar, onde vai ter porta, janela, etc. Esse desenho é a \"planta\" da casa. Ela serve como um guia para quem vai construir, mostrando o que deve ser feito e onde.\n> \n> No mundo da engenharia e arquitetura, \"planta\" é basicamente um desenho técnico que representa um lugar (um terreno, um prédio, uma casa) visto de cima. É como se você estivesse voando de helicóptero e olhando para baixo:\n> \n> *   **Mostra as medidas:** A planta indica o tamanho de cada parte do lugar, como o comprimento das paredes, a largura dos cômodos, etc.\n> *   **Indica o que tem em cada lugar:** A planta mostra onde ficam as paredes, portas, janelas, escadas, pias, vasos sanitários... tudo!\n> *   **É um guia:** A planta ajuda a entender como o lugar está organizado e como as coisas se encaixam.\n> \n> **Exemplos Práticos**\n> \n> 1.  **Planta da sua sala de aula:** Imagine que você quer desenhar a planta da sua sala de aula. Você olha de cima e desenha as paredes, a porta, as janelas, as mesas, a lousa. Na planta, você coloca as medidas de cada parede e a distância entre as mesas. Assim, quem olhar a planta vai saber exatamente como a sala está organizada.\n> \n> 2.  **Planta da sua casa:** A planta da sua casa mostra onde ficam os quartos, a sala, a cozinha, o banheiro, etc. Ela também mostra onde estão as portas e janelas. Se você quisesse reformar a casa, a planta seria muito útil para planejar as mudanças.\n> \n> 3.  **Planta de um jardim:** Se você quer criar um jardim, pode fazer uma planta para organizar as flores, árvores, caminhos, etc. A planta mostra onde cada planta deve ser colocada e qual o tamanho do jardim.\n> \n> **Por que as Plantas são Importantes?**\n> \n> As plantas são importantes porque ajudam a planejar e construir coisas de forma organizada e eficiente. Sem uma planta, seria muito difícil construir uma casa ou organizar um jardim, por exemplo.\n> \n> **Em Resumo:**\n> \n> *   Planta é um desenho técnico que mostra um lugar visto de cima.\n> *   Ela indica as medidas e o que tem em cada lugar.\n> *   É um guia para planejar e construir coisas.\n> \n> Espero que essa explicação tenha sido útil! Se tiver mais alguma dúvida, é só perguntar!\n",
            "text/plain": [
              "<IPython.core.display.Markdown object>"
            ]
          },
          "metadata": {},
          "output_type": "display_data"
        },
        {
          "name": "stdout",
          "output_type": "stream",
          "text": [
            "\n",
            "❓ Pergunta rápida para testar aprendizado:\n",
            "\n"
          ]
        },
        {
          "data": {
            "text/markdown": "> Qual das seguintes opções **não** é uma parte essencial da maioria das plantas?\n> \n> a) Raiz\n> b) Caule\n> c) Flor\n> d) Antena\n> \n",
            "text/plain": [
              "<IPython.core.display.Markdown object>"
            ]
          },
          "metadata": {},
          "output_type": "display_data"
        },
        {
          "name": "stdout",
          "output_type": "stream",
          "text": [
            "\n",
            "📎 Para saber mais:\n",
            "\n"
          ]
        },
        {
          "data": {
            "text/markdown": "> Para aprofundar seus conhecimentos sobre plantas, recomendo o curso **\"Biologia: botânica\"** da Alura.\n> \n> Este curso oferece uma visão geral sobre o mundo das plantas, desde a sua estrutura e fisiologia até a sua reprodução e evolução. Você irá explorar os principais grupos de plantas, como briófitas, pteridófitas, gimnospermas e angiospermas, e aprender sobre suas características distintas e adaptações ao ambiente.\n> \n> Além disso, o curso aborda temas como fotossíntese, respiração, transporte de água e nutrientes, hormônios vegetais e interações ecológicas das plantas. Ao final do curso, você terá uma base sólida em botânica para entender o papel fundamental das plantas nos ecossistemas e na vida humana.\n> \n> Para complementar seus estudos, você também pode conferir outros cursos da Alura relacionados à área de biologia e meio ambiente.\n",
            "text/plain": [
              "<IPython.core.display.Markdown object>"
            ]
          },
          "metadata": {},
          "output_type": "display_data"
        }
      ],
      "source": [
        "# Executar o app\n",
        "iniciar_educa_lab()"
      ]
    }
  ],
  "metadata": {
    "colab": {
      "provenance": [],
      "authorship_tag": "ABX9TyNl3XBPVguwXrcxU+bmTTQ0",
      "include_colab_link": true
    },
    "kernelspec": {
      "display_name": "Python 3",
      "name": "python3"
    },
    "language_info": {
      "name": "python"
    }
  },
  "nbformat": 4,
  "nbformat_minor": 0
}