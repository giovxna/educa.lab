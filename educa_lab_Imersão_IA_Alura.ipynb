{
  "cells": [
    {
      "cell_type": "markdown",
      "metadata": {
        "id": "view-in-github",
        "colab_type": "text"
      },
      "source": [
        "<a href=\"https://colab.research.google.com/github/giovxna/educa.lab/blob/main/educa_lab_Imers%C3%A3o_IA_Alura.ipynb\" target=\"_parent\"><img src=\"https://colab.research.google.com/assets/colab-badge.svg\" alt=\"Open In Colab\"/></a>"
      ]
    },
    {
      "cell_type": "code",
      "execution_count": null,
      "metadata": {
        "id": "7mIIOqqruaoi"
      },
      "outputs": [],
      "source": [
        "!pip install -q google-genai google-adk"
      ]
    },
    {
      "cell_type": "code",
      "execution_count": null,
      "metadata": {
        "id": "BBpt8l4Hucgm"
      },
      "outputs": [],
      "source": [
        "import os\n",
        "import textwrap\n",
        "import warnings\n",
        "from datetime import date\n",
        "from google.colab import userdata\n",
        "from IPython.display import display, Markdown\n",
        "from google import genai\n",
        "from google.adk.agents import Agent\n",
        "from google.adk.runners import Runner\n",
        "from google.adk.sessions import InMemorySessionService\n",
        "from google.adk.tools import google_search\n",
        "from google.genai import types"
      ]
    },
    {
      "cell_type": "code",
      "execution_count": null,
      "metadata": {
        "id": "AW-U5c1Tw72T"
      },
      "outputs": [],
      "source": [
        "# Configuração da API\n",
        "os.environ[\"GOOGLE_API_KEY\"] = userdata.get(\"GOOGLE_API_KEY\")\n",
        "client = genai.Client()"
      ]
    },
    {
      "cell_type": "code",
      "execution_count": null,
      "metadata": {
        "id": "2luHnjDtue7h"
      },
      "outputs": [],
      "source": [
        "warnings.filterwarnings(\"ignore\")\n",
        "client = genai.Client()\n",
        "MODEL_ID = \"gemini-2.0-flash\""
      ]
    },
    {
      "cell_type": "code",
      "execution_count": null,
      "metadata": {
        "id": "HpS3q2jDxHND"
      },
      "outputs": [],
      "source": [
        "# Função auxiliar para executar agente\n",
        "\n",
        "def to_markdown(text):\n",
        "    text = text.replace('•', '  *')\n",
        "    return Markdown(textwrap.indent(text, '> ', predicate=lambda _: True))\n",
        "\n",
        "def call_agent(agent: Agent, message_text: str) -> str:\n",
        "    session_service = InMemorySessionService()\n",
        "    session = session_service.create_session(app_name=agent.name, user_id=\"user1\", session_id=\"session1\")\n",
        "    runner = Runner(agent=agent, app_name=agent.name, session_service=session_service)\n",
        "    content = types.Content(role=\"user\", parts=[types.Part(text=message_text)])\n",
        "\n",
        "    final_response = \"\"\n",
        "    for event in runner.run(user_id=\"user1\", session_id=\"session1\", new_message=content):\n",
        "        if event.is_final_response():\n",
        "            for part in event.content.parts:\n",
        "                if part.text is not None:\n",
        "                    final_response += part.text + \"\\n\"\n",
        "    return final_response"
      ]
    },
    {
      "cell_type": "code",
      "execution_count": 15,
      "metadata": {
        "id": "UTRK8teSxKIn"
      },
      "outputs": [],
      "source": [
        "def criar_agente_explicador(modo_usuario):\n",
        "    instrucoes = {\n",
        "        \"infantil\": \"Explique como se o usuário tivesse 5 anos. Use analogias com brinquedos, animais e situações do cotidiano de uma criança.\",\n",
        "        \"ensino_medio\": \"Explique como para um estudante do ensino médio, com exemplos aplicados, mas sem termos muito técnicos.\",\n",
        "        \"adulto\": \"Explique de forma clara, objetiva e técnica, como para um adulto curioso.\",\n",
        "        \"fofoca\": \"Explique como se fosse uma fofoca entre amigos. Use humor, gírias leves e analogias engraçadas como se estivesse contando um babado.\",\n",
        "        \"memes\": \"Explique com tom de meme e linguagem da internet. Use emojis (mas de forma moderada), hashtags e expressões engraçadas.\"\n",
        "    }\n",
        "\n",
        "    return Agent(\n",
        "        name=\"agente_explicador\",\n",
        "        model=MODEL_ID,\n",
        "        instruction=instrucoes.get(modo_usuario, \"Explique de forma clara e divertida.\"),\n",
        "        description=\"Agente que explica conceitos com o estilo desejado.\"\n",
        "    )\n",
        "\n",
        "# Agente de quiz\n",
        "def agente_quiz(assunto):\n",
        "    quiz = Agent(\n",
        "        name=\"agente_quiz\",\n",
        "        model=MODEL_ID,\n",
        "        instruction=\"Crie uma pergunta ou desafio simples para testar se o usuário aprendeu o conteúdo.\",\n",
        "        description=\"Agente que cria um quiz ou desafio.\"\n",
        "    )\n",
        "    return call_agent(quiz, f\"Crie uma pergunta para testar o conhecimento sobre: {assunto}\")\n",
        "\n",
        "# Agente de sugestão de curso\n",
        "def agente_link_alura(assunto):\n",
        "    link = Agent(\n",
        "        name=\"agente_alura\",\n",
        "        model=MODEL_ID,\n",
        "        instruction=\"Sugira um curso da Alura que aprofunde esse tema.\",\n",
        "        description=\"Agente que sugere cursos da Alura.\"\n",
        "    )\n",
        "    return call_agent(link, f\"Sugira um curso da Alura para aprender mais sobre: {assunto}\")\n",
        "\n",
        "# ✅ Novo agente: plano de estudo\n",
        "def agente_plano_estudo(assunto):\n",
        "    agente = Agent(\n",
        "        name=\"agente_plano_estudo\",\n",
        "        model=MODEL_ID,\n",
        "        instruction=(\n",
        "            \"Crie um plano de estudo básico para quem quer aprender sobre esse assunto. \"\n",
        "            \"Inclua temas complementares, sugestões de tempo e ordem de aprendizado.\"\n",
        "        ),\n",
        "        description=\"Gera um plano de estudos simples para guiar o usuário.\"\n",
        "    )\n",
        "    return call_agent(agente, f\"Crie um plano de estudos para: {assunto}\")"
      ]
    },
    {
      "cell_type": "code",
      "source": [
        "def aprofundar_assunto(explicador, assunto):\n",
        "    while True:\n",
        "        print(\"\\n🔍 O que deseja fazer agora?\")\n",
        "        print(\"1 - Fazer uma nova pergunta sobre esse tema ❓\")\n",
        "        print(\"2 - Receber uma explicação mais profunda 🧠\")\n",
        "        print(\"3 - Tentar um desafio mais difícil sobre isso 🎯\")\n",
        "        print(\"4 - Ver outro assunto 🔁\")\n",
        "        print(\"5 - Encerrar 🚪\")\n",
        "\n",
        "        escolha = input(\"Escolha uma opção (1-5): \").strip()\n",
        "\n",
        "        if escolha == \"1\":\n",
        "            pergunta = input(\"Digite sua nova dúvida: \")\n",
        "            prompt = f\"Continuando sobre '{assunto}': {pergunta}\"\n",
        "            resposta = call_agent(explicador, prompt)\n",
        "            print(\"\\n📌 Resposta personalizada:\\n\")\n",
        "            display(to_markdown(resposta))\n",
        "\n",
        "        elif escolha == \"2\":\n",
        "            prompt = f\"Explique o conceito de '{assunto}' com mais profundidade e exemplos avançados.\"\n",
        "            explicacao = call_agent(explicador, prompt)\n",
        "            print(\"\\n🔎 Explicação mais avançada:\\n\")\n",
        "            display(to_markdown(explicacao))\n",
        "\n",
        "        elif escolha == \"3\":\n",
        "            quiz_dificil = Agent(\n",
        "                name=\"quiz_dificil\",\n",
        "                model=MODEL_ID,\n",
        "                instruction=\"Crie um desafio mais difícil, como um quiz com raciocínio ou aplicação prática.\",\n",
        "                description=\"Quiz avançado\"\n",
        "            )\n",
        "            desafio = call_agent(quiz_dificil, f\"Crie um desafio difícil sobre: {assunto}\")\n",
        "            print(\"\\n🧩 Desafio avançado:\\n\")\n",
        "            display(to_markdown(desafio))\n",
        "\n",
        "        elif escolha == \"4\":\n",
        "            break\n",
        "\n",
        "        elif escolha == \"5\":\n",
        "            print(\"\\n👋 Até logo, bons estudos!\")\n",
        "            exit()\n",
        "\n",
        "        else:\n",
        "            print(\"Opção inválida. Tente novamente.\")\n"
      ],
      "metadata": {
        "id": "Ldl9vo7q3Q46"
      },
      "execution_count": 16,
      "outputs": []
    },
    {
      "cell_type": "code",
      "execution_count": 17,
      "metadata": {
        "id": "7ZBLooNKuh5Q"
      },
      "outputs": [],
      "source": [
        "def educa_lab(assunto, tempo, modo):\n",
        "    explicador = criar_agente_explicador(modo)\n",
        "    prompt = f\"Explique o conceito de '{assunto}' em no máximo {tempo} minutos.\"\n",
        "    explicacao = call_agent(explicador, prompt)\n",
        "    quiz = agente_quiz(assunto)\n",
        "    link = agente_link_alura(assunto)\n",
        "    plano = agente_plano_estudo(assunto)\n",
        "\n",
        "    print(\"\\n📚 Explicação personalizada:\\n\")\n",
        "    display(to_markdown(explicacao))\n",
        "\n",
        "    print(\"\\n❓ Pergunta rápida para testar aprendizado:\\n\")\n",
        "    display(to_markdown(quiz))\n",
        "\n",
        "    print(\"\\n📎 Para saber mais:\\n\")\n",
        "    display(to_markdown(link))\n",
        "\n",
        "    print(\"\\n🗂️ Plano de estudos sugerido:\\n\")\n",
        "    display(to_markdown(plano))\n",
        "\n",
        "    aprofundar_assunto(explicador, assunto)\n",
        "\n",
        "# Menu inicial\n",
        "def iniciar_educa_lab():\n",
        "    while True:\n",
        "        assunto = input(\"\\nQuero aprender sobre: \")\n",
        "        tempo = input(\"Tempo que tenho (2, 5, 10, 15 minutos): \")\n",
        "\n",
        "        print(\"\\n🧠 Como você quer aprender?\")\n",
        "        print(\"1 - Como se eu tivesse 5 anos 👶\")\n",
        "        print(\"2 - Como estudante do ensino médio 🧑\")\n",
        "        print(\"3 - Como adulto curioso 👩‍🎓\")\n",
        "        print(\"4 - Com analogias e fofoca 🤪\")\n",
        "        print(\"5 - Em memes 😂\")\n",
        "        print(\"6 - Surpreenda-me com o estilo! 🎲\")\n",
        "\n",
        "        modo_map = {\n",
        "            \"1\": \"infantil\",\n",
        "            \"2\": \"ensino_medio\",\n",
        "            \"3\": \"adulto\",\n",
        "            \"4\": \"fofoca\",\n",
        "            \"5\": \"memes\"\n",
        "        }\n",
        "\n",
        "        modo_escolhido = input(\"Escolha um número: \")\n",
        "\n",
        "        if modo_escolhido == \"6\":\n",
        "            import random\n",
        "            modo = random.choice(list(modo_map.values()))\n",
        "            print(f\"✨ Estilo sorteado: {modo}\")\n",
        "        else:\n",
        "            modo = modo_map.get(modo_escolhido, \"adulto\")\n",
        "\n",
        "        educa_lab(assunto, tempo, modo)\n",
        "\n",
        "        repetir = input(\"\\n🔁 Quer aprender outro assunto? (s/n): \").lower()\n",
        "        if repetir != 's':\n",
        "            print(\"\\nAté a próxima! 👋\")\n",
        "            break\n"
      ]
    },
    {
      "cell_type": "code",
      "source": [
        "# Executar o app\n",
        "iniciar_educa_lab()"
      ],
      "metadata": {
        "colab": {
          "base_uri": "https://localhost:8080/",
          "height": 1000
        },
        "id": "HD2rOLLj5Vk3",
        "outputId": "1d6209c2-a19a-407c-81e5-5c05361eda1b"
      },
      "execution_count": null,
      "outputs": [
        {
          "output_type": "stream",
          "name": "stdout",
          "text": [
            "\n",
            "Quero aprender sobre: rest\n",
            "Tempo que tenho (2, 5, 10, 15 minutos): 15\n",
            "\n",
            "🧠 Como você quer aprender?\n",
            "1 - Como se eu tivesse 5 anos 👶\n",
            "2 - Como estudante do ensino médio 🧑\n",
            "3 - Como adulto curioso 👩‍🎓\n",
            "4 - Com analogias e fofoca 🤪\n",
            "5 - Em memes 😂\n",
            "6 - Surpreenda-me com o estilo! 🎲\n",
            "Escolha um número: 6\n",
            "✨ Estilo sorteado: memes\n",
            "\n",
            "📚 Explicação personalizada:\n",
            "\n"
          ]
        },
        {
          "output_type": "display_data",
          "data": {
            "text/plain": [
              "<IPython.core.display.Markdown object>"
            ],
            "text/markdown": "> E aí, beleza?! 😎 Preparado pra desvendar o mistério do REST? Relaxa que em 15 minutinhos a gente DOMINA essa parada! 🚀\n> \n> **REST: A parada mais \"suave na nave\" da internet!** 🌌\n> \n> REST (Representational State Transfer) não é tipo uma receita de bolo, saca? É mais um *estilo arquitetural* pra galera que desenvolve sistemas distribuídos (tipo a internet toda!). Imagina que é um manual de boas práticas pra comunicação entre computadores, tipo um \"guia de etiqueta\" online. 💅\n> \n> **Os 6 mandamentos do REST (pra não dar #fail):**\n> \n> 1.  **Cliente-Servidor:** É tipo o iFood da vida. Você (cliente) faz o pedido e o restaurante (servidor) te entrega a comida. Cada um no seu quadrado, sem stress! 🍕\n> 2.  **Sem Estado (Stateless):** Imagina que cada vez que você pede Ifood, tem que explicar tudo de novo. Ninguém merece! No REST, cada requisição tem que ter toda a info necessária, sem o servidor ficar lembrando de você. #vidaquesegue 🧘\n> 3.  **Cacheável:** Pra que pedir a mesma pizza 3x seguidas? O REST incentiva a guardar as respostas (tipo um \"print\" da tela) pra não sobrecarregar o servidor. #esperto 🤓\n> 4.  **Sistema em Camadas:** É tipo uma cebola! 🧅 Você só vê a camada de cima (a API), mas por baixo tem várias outras funcionando. Ninguém precisa saber da vida de todo mundo, né? #privacidade\n> 5.  **Código sob Demanda (Opcional):** Tipo baixar um app novo pra ver um vídeo. O servidor pode te mandar um código pra rodar no seu computador, mas não é sempre que rola. #flexibilidade\n> 6.  **Interface Uniforme:** ESSENCIAL! É a alma do negócio. Tem 4 sub-regras aqui, então presta atenção:\n> \n>     *   **Identificação de Recursos:** Cada \"coisa\" (tipo um produto no iFood) tem um link único (URL).\n>     *   **Manipulação de Recursos Através de Representações:** Você não \"pega\" o produto direto, você pega uma \"foto\" dele (JSON, XML, etc.).\n>     *   **Auto Descritivo:** A \"foto\" do produto já te diz o que fazer com ele (editar, apagar, etc.).\n>     *   **Hypermedia as the Engine of Application State (HATEOAS):** A API te fala quais são as próximas ações possíveis. Tipo um cardápio que te mostra o que você pode pedir.\n> \n> **Na prática, como fica?** 🤔\n> \n> *   Você usa os métodos HTTP (GET, POST, PUT, DELETE) pra fazer as operações. Tipo:\n>     *   `GET /produtos/123` (pegar o produto com ID 123)\n>     *   `POST /produtos` (criar um produto novo)\n>     *   `PUT /produtos/123` (atualizar o produto 123)\n>     *   `DELETE /produtos/123` (apagar o produto 123)\n> \n> **E por que REST é tão legal?** ✨\n> \n> *   **Escalabilidade:** Aguenta o tranco de muita gente usando ao mesmo tempo.\n> *   **Simplicidade:** É fácil de entender e usar (depois dessa explicação, né?). 😉\n> *   **Flexibilidade:** Funciona com várias linguagens e tecnologias.\n> \n> **Resumindo:** REST é tipo um \"manual de sobrevivência\" pra web, que garante que todo mundo se entenda e a internet continue rodando liso. 😎\n> \n> #REST #APIs #DesenvolvimentoWeb #TamoJunto #InternetSuave\n> \n"
          },
          "metadata": {}
        },
        {
          "output_type": "stream",
          "name": "stdout",
          "text": [
            "\n",
            "❓ Pergunta rápida para testar aprendizado:\n",
            "\n"
          ]
        },
        {
          "output_type": "display_data",
          "data": {
            "text/plain": [
              "<IPython.core.display.Markdown object>"
            ],
            "text/markdown": "> Ótimo! Para testar o conhecimento sobre REST, aqui vai uma pergunta:\n> \n> **Pergunta:**\n> \n> Qual das seguintes opções **NÃO** é uma característica fundamental de uma arquitetura RESTful?\n> \n> a) Stateless (Sem estado)\n> b) Cacheable (Cacheável)\n> c) Stateful (Com estado)\n> d) Uniform Interface (Interface Uniforme)\n> \n> Essa pergunta testa a compreensão dos princípios básicos do REST, focando em identificar qual característica não se alinha com o estilo arquitetural.\n> \n"
          },
          "metadata": {}
        },
        {
          "output_type": "stream",
          "name": "stdout",
          "text": [
            "\n",
            "📎 Para saber mais:\n",
            "\n"
          ]
        },
        {
          "output_type": "display_data",
          "data": {
            "text/plain": [
              "<IPython.core.display.Markdown object>"
            ],
            "text/markdown": "> Para aprofundar seus conhecimentos sobre REST, sugiro o curso **\"REST API: Conceitos e construindo uma API\"** da Alura.\n> \n> Nesse curso, você irá aprender:\n> \n> *   **O que é REST:** Entenda os princípios e conceitos por trás da arquitetura REST.\n> *   **Verbos HTTP:** Domine os métodos HTTP (GET, POST, PUT, DELETE) e como utilizá-los corretamente em uma API RESTful.\n> *   **Códigos de Status:** Aprenda sobre os códigos de status HTTP e como eles indicam o resultado de uma requisição.\n> *   **Formato de Dados:** Explore diferentes formatos de dados (JSON, XML) e como utilizá-los na troca de informações entre cliente e servidor.\n> *   **Construção de uma API:** Coloque a mão na massa e construa uma API RESTful do zero, utilizando uma linguagem de programação (geralmente Java ou Node.js).\n> *   **Boas Práticas:** Descubra as melhores práticas para projetar e implementar APIs RESTful eficientes e escaláveis.\n> \n> Este curso é um excelente ponto de partida para quem deseja dominar a arquitetura REST e construir APIs de alta qualidade.\n> \n> Para complementar seus estudos, você também pode procurar por outros cursos na Alura sobre tópicos relacionados, como:\n> \n> *   **APIs:** Cursos sobre diferentes tipos de APIs (SOAP, GraphQL) e como integrá-las em seus projetos.\n> *   **Microsserviços:** Cursos sobre arquitetura de microsserviços e como construir sistemas distribuídos e escaláveis.\n> *   **Design de APIs:** Cursos sobre como projetar APIs intuitivas, fáceis de usar e que atendam às necessidades dos seus usuários.\n> \n> Espero que esta sugestão seja útil!\n"
          },
          "metadata": {}
        },
        {
          "output_type": "stream",
          "name": "stdout",
          "text": [
            "\n",
            "🗂️ Plano de estudos sugerido:\n",
            "\n"
          ]
        },
        {
          "output_type": "display_data",
          "data": {
            "text/plain": [
              "<IPython.core.display.Markdown object>"
            ],
            "text/markdown": "> ## Plano de Estudos Básico para REST\n> \n> Este plano de estudos tem como objetivo fornecer uma base sólida para entender e trabalhar com a arquitetura REST. Ele inclui tópicos complementares importantes e sugestões de tempo para cada área.\n> \n> **Público-alvo:** Iniciantes com pouco ou nenhum conhecimento em REST.\n> \n> **Duração total estimada:** 4-6 semanas (dependendo da sua dedicação e tempo disponível)\n> \n> **Estrutura:**\n> \n> **Semana 1: Fundamentos da Web e Protocolo HTTP**\n> \n> *   **Objetivo:** Entender como a web funciona e como os dados são transferidos.\n> *   **Tópicos:**\n>     *   **Internet e a World Wide Web (WWW):**\n>         *   O que é a internet?\n>         *   O que é a web?\n>         *   Como os navegadores funcionam?\n>     *   **Protocolo HTTP:**\n>         *   O que é um protocolo?\n>         *   Estrutura de uma requisição HTTP (método, headers, body)\n>         *   Estrutura de uma resposta HTTP (status code, headers, body)\n>         *   Métodos HTTP principais: GET, POST, PUT, DELETE\n>         *   Códigos de status HTTP importantes: 200, 201, 400, 401, 403, 404, 500\n>     *   **URLs e URIs:**\n>         *   O que são URLs e URIs?\n>         *   Estrutura de uma URL\n>     *   **HTML e Formulários:** (Conhecimento básico, não precisa ser especialista)\n>         *   O que é HTML?\n>         *   Como os formulários HTML funcionam?\n> *   **Tempo estimado:** 5-7 horas\n> *   **Recursos:**\n>     *   Documentação HTTP da Mozilla Developer Network (MDN): [https://developer.mozilla.org/en-US/docs/Web/HTTP](https://developer.mozilla.org/en-US/docs/Web/HTTP)\n>     *   Artigos introdutórios sobre a web (ex: \"Como a Internet Funciona\" do Tecnoblog)\n>     *   Vídeos explicativos sobre HTTP no YouTube\n> \n> **Semana 2: Introdução à Arquitetura REST**\n> \n> *   **Objetivo:** Compreender os princípios e conceitos fundamentais da arquitetura REST.\n> *   **Tópicos:**\n>     *   **O que é REST?**\n>         *   Representational State Transfer (REST)\n>         *   Arquitetura vs. Protocolo\n>     *   **Princípios REST:**\n>         *   Client-Server\n>         *   Stateless\n>         *   Cacheable\n>         *   Layered System\n>         *   Code on Demand (opcional)\n>         *   Uniform Interface (o mais importante)\n>             *   Identification of Resources\n>             *   Manipulation of Resources Through Representations\n>             *   Self-descriptive Messages\n>             *   Hypermedia as the Engine of Application State (HATEOAS)\n>     *   **Recursos:**\n>         *   O que são recursos em REST?\n>         *   Como identificar recursos usando URIs?\n>         *   Representações de recursos (JSON, XML)\n> *   **Tempo estimado:** 5-7 horas\n> *   **Recursos:**\n>     *   Artigos e tutoriais sobre REST (ex: da Digital Ocean, da FreeCodeCamp)\n>     *   Vídeos explicativos sobre REST no YouTube\n>     *   Leitura do artigo original de Roy Fielding sobre REST (opcional, mais técnico): [https://www.ics.uci.edu/~fielding/pubs/dissertation/top.htm](https://www.ics.uci.edu/~fielding/pubs/dissertation/top.htm)\n> \n> **Semana 3: RESTful APIs e JSON**\n> \n> *   **Objetivo:** Aprender a projetar e consumir APIs RESTful, com foco em JSON como formato de dados.\n> *   **Tópicos:**\n>     *   **O que é uma API RESTful?**\n>         *   Design de APIs RESTful\n>         *   Boas práticas para nomear URIs (ex: usar substantivos, não verbos)\n>         *   Uso correto dos métodos HTTP (GET, POST, PUT, DELETE)\n>     *   **JSON (JavaScript Object Notation):**\n>         *   Sintaxe do JSON\n>         *   Tipos de dados em JSON (string, number, boolean, array, object, null)\n>         *   Serialização e desserialização de JSON\n>     *   **Ferramentas para testar APIs REST:**\n>         *   Postman\n>         *   Insomnia\n>         *   curl (linha de comando)\n> *   **Tempo estimado:** 6-8 horas\n> *   **Recursos:**\n>     *   Documentação do Postman/Insomnia\n>     *   Tutoriais sobre JSON (ex: da MDN)\n>     *   APIs REST públicas para praticar (ex: JSONPlaceholder)\n>     *   Exercícios práticos: crie e consuma APIs RESTful simples usando as ferramentas aprendidas.\n> \n> **Semana 4: HATEOAS e Segurança em APIs REST**\n> \n> *   **Objetivo:** Aprofundar o conhecimento em REST com HATEOAS e entender os principais aspectos de segurança.\n> *   **Tópicos:**\n>     *   **HATEOAS (Hypermedia as the Engine of Application State):**\n>         *   O que é HATEOAS e por que é importante?\n>         *   Como implementar HATEOAS em APIs RESTful?\n>         *   Exemplos de HATEOAS (links em respostas JSON)\n>     *   **Segurança em APIs REST:**\n>         *   Autenticação (verificação de identidade):\n>             *   Basic Authentication\n>             *   API Keys\n>             *   OAuth 2.0\n>             *   JWT (JSON Web Tokens)\n>         *   Autorização (controle de acesso):\n>             *   Roles e Permissions\n>         *   HTTPS (criptografia da comunicação)\n>         *   Validação de dados (para prevenir injeção de SQL e outros ataques)\n>     *   **Versionamento de APIs:**\n>         *   Por que versionar APIs?\n>         *   Estratégias de versionamento (ex: na URL, nos headers)\n> *   **Tempo estimado:** 6-8 horas\n> *   **Recursos:**\n>     *   Artigos e tutoriais sobre HATEOAS\n>     *   Documentação sobre OAuth 2.0 e JWT\n>     *   Guias de segurança para APIs REST (ex: OWASP API Security Top 10)\n> \n> **Tópicos Complementares (Estude conforme o seu interesse e necessidade):**\n> \n> *   **GraphQL:** Uma alternativa ao REST para APIs.\n> *   **gRPC:** Um framework para chamadas de procedimento remoto (RPC) de alta performance.\n> *   **WebSockets:** Para comunicação bidirecional em tempo real.\n> *   **Cache:** Estratégias de cache para melhorar o desempenho de APIs REST.\n> *   **Documentação de APIs (Swagger/OpenAPI):** Como documentar suas APIs de forma padronizada.\n> \n> **Recomendações Gerais:**\n> \n> *   **Pratique!** A teoria é importante, mas a prática é fundamental. Crie pequenas APIs RESTful para consolidar o que você aprendeu.\n> *   **Use ferramentas.** Familiarize-se com ferramentas como Postman/Insomnia para testar suas APIs.\n> *   **Leia código de outros.** Analise APIs RESTful existentes para aprender com exemplos reais.\n> *   **Mantenha-se atualizado.** O mundo da tecnologia está sempre evoluindo. Acompanhe as novidades e tendências em APIs REST.\n> \n> Este é um plano de estudos básico. Adapte-o às suas necessidades e interesses. Boa sorte!\n> \n"
          },
          "metadata": {}
        },
        {
          "output_type": "stream",
          "name": "stdout",
          "text": [
            "\n",
            "🔍 O que deseja fazer agora?\n",
            "1 - Fazer uma nova pergunta sobre esse tema ❓\n",
            "2 - Receber uma explicação mais profunda 🧠\n",
            "3 - Tentar um desafio mais difícil sobre isso 🎯\n",
            "4 - Ver outro assunto 🔁\n",
            "5 - Encerrar 🚪\n"
          ]
        }
      ]
    }
  ],
  "metadata": {
    "colab": {
      "provenance": [],
      "authorship_tag": "ABX9TyNTngpGGrMnATOras0OKZ62",
      "include_colab_link": true
    },
    "kernelspec": {
      "display_name": "Python 3",
      "name": "python3"
    },
    "language_info": {
      "name": "python"
    }
  },
  "nbformat": 4,
  "nbformat_minor": 0
}