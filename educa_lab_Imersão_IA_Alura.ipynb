{
  "cells": [
    {
      "cell_type": "markdown",
      "metadata": {
        "id": "view-in-github",
        "colab_type": "text"
      },
      "source": [
        "<a href=\"https://colab.research.google.com/github/giovxna/educa.lab/blob/main/educa_lab_Imers%C3%A3o_IA_Alura.ipynb\" target=\"_parent\"><img src=\"https://colab.research.google.com/assets/colab-badge.svg\" alt=\"Open In Colab\"/></a>"
      ]
    },
    {
      "cell_type": "code",
      "execution_count": null,
      "metadata": {
        "id": "7mIIOqqruaoi"
      },
      "outputs": [],
      "source": [
        "!pip install -q google-genai google-adk"
      ]
    },
    {
      "cell_type": "code",
      "execution_count": null,
      "metadata": {
        "id": "BBpt8l4Hucgm"
      },
      "outputs": [],
      "source": [
        "import os\n",
        "import textwrap\n",
        "import warnings\n",
        "from datetime import date\n",
        "from google.colab import userdata\n",
        "from IPython.display import display, Markdown\n",
        "from google import genai\n",
        "from google.adk.agents import Agent\n",
        "from google.adk.runners import Runner\n",
        "from google.adk.sessions import InMemorySessionService\n",
        "from google.adk.tools import google_search\n",
        "from google.genai import types"
      ]
    },
    {
      "cell_type": "code",
      "execution_count": null,
      "metadata": {
        "id": "AW-U5c1Tw72T"
      },
      "outputs": [],
      "source": [
        "# Configuração da API\n",
        "os.environ[\"GOOGLE_API_KEY\"] = userdata.get(\"GOOGLE_API_KEY\")\n",
        "client = genai.Client()"
      ]
    },
    {
      "cell_type": "code",
      "execution_count": null,
      "metadata": {
        "id": "2luHnjDtue7h"
      },
      "outputs": [],
      "source": [
        "warnings.filterwarnings(\"ignore\")\n",
        "client = genai.Client()\n",
        "MODEL_ID = \"gemini-2.0-flash\""
      ]
    },
    {
      "cell_type": "code",
      "execution_count": null,
      "metadata": {
        "id": "HpS3q2jDxHND"
      },
      "outputs": [],
      "source": [
        "# Função auxiliar para executar agente\n",
        "\n",
        "def to_markdown(text):\n",
        "    text = text.replace('•', '  *')\n",
        "    return Markdown(textwrap.indent(text, '> ', predicate=lambda _: True))\n",
        "\n",
        "def call_agent(agent: Agent, message_text: str) -> str:\n",
        "    session_service = InMemorySessionService()\n",
        "    session = session_service.create_session(app_name=agent.name, user_id=\"user1\", session_id=\"session1\")\n",
        "    runner = Runner(agent=agent, app_name=agent.name, session_service=session_service)\n",
        "    content = types.Content(role=\"user\", parts=[types.Part(text=message_text)])\n",
        "\n",
        "    final_response = \"\"\n",
        "    for event in runner.run(user_id=\"user1\", session_id=\"session1\", new_message=content):\n",
        "        if event.is_final_response():\n",
        "            for part in event.content.parts:\n",
        "                if part.text is not None:\n",
        "                    final_response += part.text + \"\\n\"\n",
        "    return final_response"
      ]
    },
    {
      "cell_type": "code",
      "execution_count": null,
      "metadata": {
        "id": "UTRK8teSxKIn"
      },
      "outputs": [],
      "source": [
        "#Criando Agentes\n",
        "\n",
        "def criar_agente_explicador(modo_usuario):\n",
        "    instrucoes = {\n",
        "        \"infantil\": \"Explique como se o usuário tivesse 5 anos. Use analogias com brinquedos, animais e situações do cotidiano de uma criança.\",\n",
        "        \"ensino_medio\": \"Explique como para um estudante do ensino médio, com exemplos aplicados, mas sem termos muito técnicos.\",\n",
        "        \"adulto\": \"Explique de forma clara, objetiva e técnica, como para um adulto curioso.\",\n",
        "        \"fofoca\": \"Explique como se fosse uma fofoca entre amigos. Use humor, gírias leves e analogias engraçadas como se estivesse contando um babado.\",\n",
        "        \"memes\": \"Explique com tom de meme e linguagem da internet. Use emojis (mas de forma moderada), hashtags e expressões engraçadas.\"\n",
        "    }\n",
        "\n",
        "    return Agent(\n",
        "        name=\"agente_explicador\",\n",
        "        model=MODEL_ID,\n",
        "        instruction=instrucoes.get(modo_usuario, \"Explique de forma clara e divertida.\"),\n",
        "        description=\"Agente que explica conceitos com o estilo desejado.\"\n",
        "    )\n",
        "\n",
        "def agente_quiz(assunto):\n",
        "    quiz = Agent(\n",
        "        name=\"agente_quiz\",\n",
        "        model=MODEL_ID,\n",
        "        instruction=\"Crie uma pergunta ou desafio simples para testar se o usuário aprendeu o conteúdo.\",\n",
        "        description=\"Agente que cria um quiz ou desafio.\"\n",
        "    )\n",
        "    return call_agent(quiz, f\"Crie uma pergunta para testar o conhecimento sobre: {assunto}\")\n",
        "\n",
        "def agente_link_alura(assunto):\n",
        "    link = Agent(\n",
        "        name=\"agente_alura\",\n",
        "        model=MODEL_ID,\n",
        "        instruction=\"Sugira um curso da Alura que aprofunde esse tema.\",\n",
        "        description=\"Agente que sugere cursos da Alura.\"\n",
        "    )\n",
        "    return call_agent(link, f\"Sugira um curso da Alura para aprender mais sobre: {assunto}\")"
      ]
    },
    {
      "cell_type": "code",
      "source": [
        "def aprofundar_assunto(explicador, assunto):\n",
        "    while True:\n",
        "        print(\"\\n🔍 O que deseja fazer agora?\")\n",
        "        print(\"1 - Fazer uma nova pergunta sobre esse tema ❓\")\n",
        "        print(\"2 - Receber uma explicação mais profunda 🧠\")\n",
        "        print(\"3 - Tentar um desafio mais difícil sobre isso 🎯\")\n",
        "        print(\"4 - Ver outro assunto 🔁\")\n",
        "        print(\"5 - Encerrar 🚪\")\n",
        "\n",
        "        escolha = input(\"Escolha uma opção (1-5): \").strip()\n",
        "\n",
        "        if escolha == \"1\":\n",
        "            pergunta = input(\"Digite sua nova dúvida: \")\n",
        "            prompt = f\"Continuando sobre '{assunto}': {pergunta}\"\n",
        "            resposta = call_agent(explicador, prompt)\n",
        "            print(\"\\n📌 Resposta personalizada:\\n\")\n",
        "            display(to_markdown(resposta))\n",
        "\n",
        "        elif escolha == \"2\":\n",
        "            prompt = f\"Explique o conceito de '{assunto}' com mais profundidade e exemplos avançados.\"\n",
        "            explicacao = call_agent(explicador, prompt)\n",
        "            print(\"\\n🔎 Explicação mais avançada:\\n\")\n",
        "            display(to_markdown(explicacao))\n",
        "\n",
        "        elif escolha == \"3\":\n",
        "            quiz_dificil = Agent(\n",
        "                name=\"quiz_dificil\",\n",
        "                model=MODEL_ID,\n",
        "                instruction=\"Crie um desafio mais difícil, como um quiz com raciocínio ou aplicação prática.\",\n",
        "                description=\"Quiz avançado\"\n",
        "            )\n",
        "            desafio = call_agent(quiz_dificil, f\"Crie um desafio difícil sobre: {assunto}\")\n",
        "            print(\"\\n🧩 Desafio avançado:\\n\")\n",
        "            display(to_markdown(desafio))\n",
        "\n",
        "        elif escolha == \"4\":\n",
        "            break  # Voltar para o menu principal\n",
        "\n",
        "        elif escolha == \"5\":\n",
        "            print(\"\\n👋 Até logo, bons estudos!\")\n",
        "            exit()\n",
        "\n",
        "        else:\n",
        "            print(\"Opção inválida. Tente novamente.\")\n"
      ],
      "metadata": {
        "id": "Ldl9vo7q3Q46"
      },
      "execution_count": null,
      "outputs": []
    },
    {
      "cell_type": "code",
      "execution_count": null,
      "metadata": {
        "id": "7ZBLooNKuh5Q"
      },
      "outputs": [],
      "source": [
        "def educa_lab(assunto, tempo, modo):\n",
        "    explicador = criar_agente_explicador(modo)\n",
        "    prompt = f\"Explique o conceito de '{assunto}' em no máximo {tempo} minutos.\"\n",
        "    explicacao = call_agent(explicador, prompt)\n",
        "    quiz = agente_quiz(assunto)\n",
        "    link = agente_link_alura(assunto)\n",
        "\n",
        "    print(\"\\n📚 Explicação personalizada:\\n\")\n",
        "    display(to_markdown(explicacao))\n",
        "\n",
        "    print(\"\\n❓ Pergunta rápida para testar aprendizado:\\n\")\n",
        "    display(to_markdown(quiz))\n",
        "\n",
        "    print(\"\\n📎 Para saber mais:\\n\")\n",
        "    display(to_markdown(link))\n",
        "\n",
        "    # Chamada para aprofundamento\n",
        "    aprofundar_assunto(explicador, assunto)\n",
        "\n",
        "# ---------- Execução principal ---------- #\n",
        "def iniciar_educa_lab():\n",
        "    while True:\n",
        "        assunto = input(\"\\nQuero aprender sobre: \")\n",
        "        tempo = input(\"Tempo que tenho (2, 5, 10, 15 minutos): \")\n",
        "\n",
        "        print(\"\\n🧠 Como você quer aprender?\")\n",
        "        print(\"1 - Como se eu tivesse 5 anos 👶\")\n",
        "        print(\"2 - Como estudante do ensino médio 🧑\")\n",
        "        print(\"3 - Como adulto curioso 👩‍🎓\")\n",
        "        print(\"4 - Com analogias e fofoca 🤪\")\n",
        "        print(\"5 - Em memes 😂\")\n",
        "        print(\"6 - Surpreenda-me com o estilo! 🎲\")\n",
        "\n",
        "        modo_map = {\n",
        "            \"1\": \"infantil\",\n",
        "            \"2\": \"ensino_medio\",\n",
        "            \"3\": \"adulto\",\n",
        "            \"4\": \"fofoca\",\n",
        "            \"5\": \"memes\"\n",
        "        }\n",
        "\n",
        "        modo_escolhido = input(\"Escolha um número: \")\n",
        "\n",
        "        if modo_escolhido == \"6\":\n",
        "            import random\n",
        "            modo = random.choice(list(modo_map.values()))\n",
        "            print(f\"✨ Estilo sorteado: {modo}\")\n",
        "        else:\n",
        "            modo = modo_map.get(modo_escolhido, \"adulto\")\n",
        "\n",
        "        educa_lab(assunto, tempo, modo)\n",
        "\n",
        "        repetir = input(\"\\n🔁 Quer aprender outro assunto? (s/n): \").lower()\n",
        "        if repetir != 's':\n",
        "            print(\"\\nAté a próxima! 👋\")\n",
        "            break"
      ]
    },
    {
      "cell_type": "code",
      "source": [
        "# Executar o app\n",
        "iniciar_educa_lab()"
      ],
      "metadata": {
        "id": "HD2rOLLj5Vk3"
      },
      "execution_count": null,
      "outputs": []
    }
  ],
  "metadata": {
    "colab": {
      "provenance": [],
      "authorship_tag": "ABX9TyNSoNMKek2xQkvoleWzRDcb",
      "include_colab_link": true
    },
    "kernelspec": {
      "display_name": "Python 3",
      "name": "python3"
    },
    "language_info": {
      "name": "python"
    }
  },
  "nbformat": 4,
  "nbformat_minor": 0
}