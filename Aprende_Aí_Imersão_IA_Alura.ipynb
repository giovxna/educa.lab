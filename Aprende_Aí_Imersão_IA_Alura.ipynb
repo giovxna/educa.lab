{
  "nbformat": 4,
  "nbformat_minor": 0,
  "metadata": {
    "colab": {
      "provenance": []
    },
    "kernelspec": {
      "name": "python3",
      "display_name": "Python 3"
    },
    "language_info": {
      "name": "python"
    }
  },
  "cells": [
    {
      "cell_type": "code",
      "source": [
        "!pip install -q google-genai google-adk"
      ],
      "metadata": {
        "colab": {
          "base_uri": "https://localhost:8080/"
        },
        "id": "7mIIOqqruaoi",
        "outputId": "4869ac3b-c0ac-4d0a-fa96-0b6b3af8135c"
      },
      "execution_count": 11,
      "outputs": [
        {
          "output_type": "stream",
          "name": "stdout",
          "text": [
            "\u001b[?25l   \u001b[90m━━━━━━━━━━━━━━━━━━━━━━━━━━━━━━━━━━━━━━━━\u001b[0m \u001b[32m0.0/1.2 MB\u001b[0m \u001b[31m?\u001b[0m eta \u001b[36m-:--:--\u001b[0m\r\u001b[2K   \u001b[91m━━━━━━━━━━━━━━━━━━\u001b[0m\u001b[91m╸\u001b[0m\u001b[90m━━━━━━━━━━━━━━━━━━━━━\u001b[0m \u001b[32m0.6/1.2 MB\u001b[0m \u001b[31m16.4 MB/s\u001b[0m eta \u001b[36m0:00:01\u001b[0m\r\u001b[2K   \u001b[90m━━━━━━━━━━━━━━━━━━━━━━━━━━━━━━━━━━━━━━━━\u001b[0m \u001b[32m1.2/1.2 MB\u001b[0m \u001b[31m19.0 MB/s\u001b[0m eta \u001b[36m0:00:00\u001b[0m\n",
            "\u001b[?25h\u001b[?25l   \u001b[90m━━━━━━━━━━━━━━━━━━━━━━━━━━━━━━━━━━━━━━━━\u001b[0m \u001b[32m0.0/232.1 kB\u001b[0m \u001b[31m?\u001b[0m eta \u001b[36m-:--:--\u001b[0m\r\u001b[2K   \u001b[90m━━━━━━━━━━━━━━━━━━━━━━━━━━━━━━━━━━━━━━━━\u001b[0m \u001b[32m232.1/232.1 kB\u001b[0m \u001b[31m15.9 MB/s\u001b[0m eta \u001b[36m0:00:00\u001b[0m\n",
            "\u001b[?25h\u001b[?25l   \u001b[90m━━━━━━━━━━━━━━━━━━━━━━━━━━━━━━━━━━━━━━━━\u001b[0m \u001b[32m0.0/95.2 kB\u001b[0m \u001b[31m?\u001b[0m eta \u001b[36m-:--:--\u001b[0m\r\u001b[2K   \u001b[90m━━━━━━━━━━━━━━━━━━━━━━━━━━━━━━━━━━━━━━━━\u001b[0m \u001b[32m95.2/95.2 kB\u001b[0m \u001b[31m6.9 MB/s\u001b[0m eta \u001b[36m0:00:00\u001b[0m\n",
            "\u001b[?25h\u001b[?25l   \u001b[90m━━━━━━━━━━━━━━━━━━━━━━━━━━━━━━━━━━━━━━━━\u001b[0m \u001b[32m0.0/217.1 kB\u001b[0m \u001b[31m?\u001b[0m eta \u001b[36m-:--:--\u001b[0m\r\u001b[2K   \u001b[90m━━━━━━━━━━━━━━━━━━━━━━━━━━━━━━━━━━━━━━━━\u001b[0m \u001b[32m217.1/217.1 kB\u001b[0m \u001b[31m14.1 MB/s\u001b[0m eta \u001b[36m0:00:00\u001b[0m\n",
            "\u001b[?25h\u001b[?25l   \u001b[90m━━━━━━━━━━━━━━━━━━━━━━━━━━━━━━━━━━━━━━━━\u001b[0m \u001b[32m0.0/334.1 kB\u001b[0m \u001b[31m?\u001b[0m eta \u001b[36m-:--:--\u001b[0m\r\u001b[2K   \u001b[90m━━━━━━━━━━━━━━━━━━━━━━━━━━━━━━━━━━━━━━━━\u001b[0m \u001b[32m334.1/334.1 kB\u001b[0m \u001b[31m21.4 MB/s\u001b[0m eta \u001b[36m0:00:00\u001b[0m\n",
            "\u001b[?25h\u001b[?25l   \u001b[90m━━━━━━━━━━━━━━━━━━━━━━━━━━━━━━━━━━━━━━━━\u001b[0m \u001b[32m0.0/125.1 kB\u001b[0m \u001b[31m?\u001b[0m eta \u001b[36m-:--:--\u001b[0m\r\u001b[2K   \u001b[90m━━━━━━━━━━━━━━━━━━━━━━━━━━━━━━━━━━━━━━━━\u001b[0m \u001b[32m125.1/125.1 kB\u001b[0m \u001b[31m6.7 MB/s\u001b[0m eta \u001b[36m0:00:00\u001b[0m\n",
            "\u001b[2K   \u001b[90m━━━━━━━━━━━━━━━━━━━━━━━━━━━━━━━━━━━━━━━━\u001b[0m \u001b[32m65.8/65.8 kB\u001b[0m \u001b[31m4.6 MB/s\u001b[0m eta \u001b[36m0:00:00\u001b[0m\n",
            "\u001b[2K   \u001b[90m━━━━━━━━━━━━━━━━━━━━━━━━━━━━━━━━━━━━━━━━\u001b[0m \u001b[32m119.0/119.0 kB\u001b[0m \u001b[31m7.4 MB/s\u001b[0m eta \u001b[36m0:00:00\u001b[0m\n",
            "\u001b[2K   \u001b[90m━━━━━━━━━━━━━━━━━━━━━━━━━━━━━━━━━━━━━━━━\u001b[0m \u001b[32m194.9/194.9 kB\u001b[0m \u001b[31m13.8 MB/s\u001b[0m eta \u001b[36m0:00:00\u001b[0m\n",
            "\u001b[2K   \u001b[90m━━━━━━━━━━━━━━━━━━━━━━━━━━━━━━━━━━━━━━━━\u001b[0m \u001b[32m62.5/62.5 kB\u001b[0m \u001b[31m4.5 MB/s\u001b[0m eta \u001b[36m0:00:00\u001b[0m\n",
            "\u001b[2K   \u001b[90m━━━━━━━━━━━━━━━━━━━━━━━━━━━━━━━━━━━━━━━━\u001b[0m \u001b[32m103.3/103.3 kB\u001b[0m \u001b[31m7.4 MB/s\u001b[0m eta \u001b[36m0:00:00\u001b[0m\n",
            "\u001b[2K   \u001b[90m━━━━━━━━━━━━━━━━━━━━━━━━━━━━━━━━━━━━━━━━\u001b[0m \u001b[32m44.4/44.4 kB\u001b[0m \u001b[31m3.8 MB/s\u001b[0m eta \u001b[36m0:00:00\u001b[0m\n",
            "\u001b[2K   \u001b[90m━━━━━━━━━━━━━━━━━━━━━━━━━━━━━━━━━━━━━━━━\u001b[0m \u001b[32m72.0/72.0 kB\u001b[0m \u001b[31m5.3 MB/s\u001b[0m eta \u001b[36m0:00:00\u001b[0m\n",
            "\u001b[?25h"
          ]
        }
      ]
    },
    {
      "cell_type": "code",
      "source": [
        "import os\n",
        "import textwrap\n",
        "import warnings\n",
        "from datetime import date\n",
        "from google.colab import userdata\n",
        "from IPython.display import display, Markdown\n",
        "from google import genai\n",
        "from google.adk.agents import Agent\n",
        "from google.adk.runners import Runner\n",
        "from google.adk.sessions import InMemorySessionService\n",
        "from google.adk.tools import google_search\n",
        "from google.genai import types"
      ],
      "metadata": {
        "id": "BBpt8l4Hucgm"
      },
      "execution_count": 12,
      "outputs": []
    },
    {
      "cell_type": "code",
      "source": [
        "# Configuração da API\n",
        "os.environ[\"GOOGLE_API_KEY\"] = userdata.get(\"GOOGLE_API_KEY\")\n",
        "client = genai.Client()"
      ],
      "metadata": {
        "id": "AW-U5c1Tw72T"
      },
      "execution_count": 13,
      "outputs": []
    },
    {
      "cell_type": "code",
      "source": [
        "warnings.filterwarnings(\"ignore\")\n",
        "client = genai.Client()\n",
        "MODEL_ID = \"gemini-2.0-flash\""
      ],
      "metadata": {
        "id": "2luHnjDtue7h"
      },
      "execution_count": 19,
      "outputs": []
    },
    {
      "cell_type": "code",
      "source": [
        "# Função auxiliar para executar agente\n",
        "\n",
        "def to_markdown(text):\n",
        "    text = text.replace('•', '  *')\n",
        "    return Markdown(textwrap.indent(text, '> ', predicate=lambda _: True))\n",
        "\n",
        "def call_agent(agent: Agent, message_text: str) -> str:\n",
        "    session_service = InMemorySessionService()\n",
        "    session = session_service.create_session(app_name=agent.name, user_id=\"user1\", session_id=\"session1\")\n",
        "    runner = Runner(agent=agent, app_name=agent.name, session_service=session_service)\n",
        "    content = types.Content(role=\"user\", parts=[types.Part(text=message_text)])\n",
        "\n",
        "    final_response = \"\"\n",
        "    for event in runner.run(user_id=\"user1\", session_id=\"session1\", new_message=content):\n",
        "        if event.is_final_response():\n",
        "            for part in event.content.parts:\n",
        "                if part.text is not None:\n",
        "                    final_response += part.text + \"\\n\"\n",
        "    return final_response"
      ],
      "metadata": {
        "id": "HpS3q2jDxHND"
      },
      "execution_count": 20,
      "outputs": []
    },
    {
      "cell_type": "code",
      "source": [
        "def criar_agente_explicador(modo_usuario):\n",
        "    instrucoes = {\n",
        "        \"infantil\": \"Explique como se o usuário tivesse 5 anos. Use analogias com brinquedos, animais e situações do cotidiano de uma criança.\",\n",
        "        \"ensino_medio\": \"Explique como para um estudante do ensino médio, com exemplos aplicados, mas sem termos muito técnicos.\",\n",
        "        \"adulto\": \"Explique de forma clara, objetiva e técnica, como para um adulto curioso.\",\n",
        "        \"fofoca\": \"Explique como se fosse uma fofoca entre amigos. Use humor, gírias leves e analogias engraçadas como se estivesse contando um babado.\",\n",
        "        \"memes\": \"Explique com tom de meme e linguagem da internet. Use emojis, hashtags e expressões engraçadas.\"\n",
        "    }\n",
        "\n",
        "    return Agent(\n",
        "        name=\"agente_explicador\",\n",
        "        model=MODEL_ID,\n",
        "        instruction=instrucoes.get(modo_usuario, \"Explique de forma clara e divertida.\"),\n",
        "        description=\"Agente que explica conceitos com o estilo desejado.\"\n",
        "    )\n",
        "\n",
        "def agente_quiz(assunto):\n",
        "    quiz = Agent(\n",
        "        name=\"agente_quiz\",\n",
        "        model=MODEL_ID,\n",
        "        instruction=\"Crie uma pergunta ou desafio simples para testar se o usuário aprendeu o conteúdo.\",\n",
        "        description=\"Agente que cria um quiz ou desafio.\"\n",
        "    )\n",
        "    return call_agent(quiz, f\"Crie uma pergunta para testar o conhecimento sobre: {assunto}\")\n",
        "\n",
        "def agente_link_alura(assunto):\n",
        "    link = Agent(\n",
        "        name=\"agente_alura\",\n",
        "        model=MODEL_ID,\n",
        "        instruction=\"Sugira um curso da Alura que aprofunde esse tema.\",\n",
        "        description=\"Agente que sugere cursos da Alura.\"\n",
        "    )\n",
        "    return call_agent(link, f\"Sugira um curso da Alura para aprender mais sobre: {assunto}\")"
      ],
      "metadata": {
        "id": "UTRK8teSxKIn"
      },
      "execution_count": 21,
      "outputs": []
    },
    {
      "cell_type": "code",
      "source": [
        "def aprende_ai(assunto, tempo, modo):\n",
        "    explicador = criar_agente_explicador(modo)\n",
        "    prompt = f\"Explique o conceito de '{assunto}' em no máximo {tempo} minutos.\"\n",
        "    explicacao = call_agent(explicador, prompt)\n",
        "    quiz = agente_quiz(assunto)\n",
        "    link = agente_link_alura(assunto)\n",
        "\n",
        "    print(\"\\n📚 Explicação personalizada:\\n\")\n",
        "    display(to_markdown(explicacao))\n",
        "\n",
        "    print(\"\\n❓ Pergunta rápida para testar aprendizado:\\n\")\n",
        "    display(to_markdown(quiz))\n",
        "\n",
        "    print(\"\\n📎 Para saber mais:\\n\")\n",
        "    display(to_markdown(link))\n",
        "\n",
        "# ---------- Execução principal ---------- #\n",
        "\n",
        "def iniciar_aprende_ai():\n",
        "    while True:\n",
        "        assunto = input(\"\\nQuero aprender sobre: \")\n",
        "        tempo = input(\"Tempo que tenho (2, 5, 10, 15 minutos): \")\n",
        "\n",
        "        print(\"\\n🧠 Como você quer aprender?\")\n",
        "        print(\"1 - Como se eu tivesse 5 anos 👶\")\n",
        "        print(\"2 - Como estudante do ensino médio 🧑\")\n",
        "        print(\"3 - Como adulto curioso 👩‍🎓\")\n",
        "        print(\"4 - Com analogias e fofoca 🤪\")\n",
        "        print(\"5 - Em memes 😂\")\n",
        "        print(\"9 - Surpreenda-me com o estilo! 🎲\")\n",
        "\n",
        "        modo_map = {\n",
        "            \"1\": \"infantil\",\n",
        "            \"2\": \"ensino_medio\",\n",
        "            \"3\": \"adulto\",\n",
        "            \"4\": \"fofoca\",\n",
        "            \"5\": \"memes\"\n",
        "        }\n",
        "\n",
        "        modo_escolhido = input(\"Escolha um número: \")\n",
        "\n",
        "        if modo_escolhido == \"9\":\n",
        "            import random\n",
        "            modo = random.choice(list(modo_map.values()))\n",
        "            print(f\"✨ Estilo sorteado: {modo}\")\n",
        "        else:\n",
        "            modo = modo_map.get(modo_escolhido, \"adulto\")\n",
        "\n",
        "        aprende_ai(assunto, tempo, modo)\n",
        "\n",
        "        repetir = input(\"\\n🔁 Quer aprender outro assunto? (s/n): \").lower()\n",
        "        if repetir != 's':\n",
        "            print(\"\\nAté a próxima! 👋\")\n",
        "            break"
      ],
      "metadata": {
        "id": "7ZBLooNKuh5Q"
      },
      "execution_count": 22,
      "outputs": []
    },
    {
      "cell_type": "code",
      "source": [
        "# Executar o app\n",
        "iniciar_aprende_ai()"
      ],
      "metadata": {
        "colab": {
          "base_uri": "https://localhost:8080/",
          "height": 1000
        },
        "id": "-elBZGT9ukrv",
        "outputId": "a3af6b89-9b35-4921-d254-0103bc8e5170"
      },
      "execution_count": 23,
      "outputs": [
        {
          "output_type": "stream",
          "name": "stdout",
          "text": [
            "\n",
            "Quero aprender sobre: grafos\n",
            "Tempo que tenho (2, 5, 10, 15 minutos): 15\n",
            "\n",
            "🧠 Como você quer aprender?\n",
            "1 - Como se eu tivesse 5 anos 👶\n",
            "2 - Como estudante do ensino médio 🧑\n",
            "3 - Como adulto curioso 👩‍🎓\n",
            "4 - Com analogias e fofoca 🤪\n",
            "5 - Em memes 😂\n",
            "9 - Surpreenda-me com o estilo! 🎲\n",
            "Escolha um número: 9\n",
            "✨ Estilo sorteado: memes\n",
            "\n",
            "📚 Explicação personalizada:\n",
            "\n"
          ]
        },
        {
          "output_type": "display_data",
          "data": {
            "text/plain": [
              "<IPython.core.display.Markdown object>"
            ],
            "text/markdown": "> E aí, beleza?! 😎 Se liga que vou te explicar o que são grafos em 15 minutos, no maior estilo \"tá fácil, tá tranquilo, tá favorável\"! 😜\n> \n> **O que são Grafos? 🤔**\n> \n> Imagina que você tem um monte de amigos 🧑‍🤝‍🧑 e quer saber quem é amigo de quem. Ou então, um mapa de cidades 🗺️ e quer saber como ir de uma cidade pra outra. É aí que os grafos entram em ação! ✨\n> \n> Grafos são tipo um diagrama que mostra conexões entre coisas. Essas \"coisas\" são chamadas de **vértices** (ou nós), e as conexões entre elas são chamadas de **arestas** (ou links). Pensa nos vértices como bolinhas e nas arestas como linhas ligando as bolinhas. 🤯\n> \n> **Tipos de Grafos? 🌈**\n> \n> *   **Grafos Não Direcionados:** As arestas não têm uma direção específica. Tipo uma rua de mão dupla. 🔄\n> *   **Grafos Direcionados (Dígrafos):** As arestas têm uma direção. Tipo uma rua de mão única. ➡️\n> *   **Grafos Ponderados:** As arestas têm um \"peso\", tipo uma distância ou custo. 💰\n> *   **Grafos Não Ponderados:** As arestas não têm peso. 🤷‍♂️\n> \n> **Pra que servem os Grafos? 🚀**\n> \n> Grafos são tipo canivete suíço! Servem pra um montão de coisas, saca só:\n> \n> *   **Redes Sociais:** Pra ver quem é amigo de quem e recomendar amigos. 📱\n> *   **Roteamento:** Pra achar o melhor caminho no GPS ou na internet. 📍\n> *   **Planejamento de Projetos:** Pra organizar as tarefas e ver a ordem em que devem ser feitas. 🏗️\n> *   **Inteligência Artificial:** Pra criar redes neurais e fazer os computadores pensarem. 🧠\n> \n> **Exemplo Prático: Indo pra Balada! 💃🕺**\n> \n> Digamos que você quer ir pra balada e tem várias opções de caminhos. Cada cruzamento é um vértice e cada rua é uma aresta. Se tiver trânsito, a aresta fica \"mais pesada\". O grafo te ajuda a achar o caminho mais rápido pra chegar na balada e não perder o fervo! 🔥\n> \n> **Resumindo:**\n> \n> *   Grafos são conexões entre coisas.\n> *   Vértices são as \"coisas\".\n> *   Arestas são as conexões.\n> *   Serve pra um montão de coisas!\n> \n> E aí, curtiu a explicação? 😎 Agora você já pode se gabar pros seus amigos que manja dos grafos! 😂 #GrafosNaVeia #NoBrainNoGain #PartiuBalada #ConhecimentoÉPoder\n> \n"
          },
          "metadata": {}
        },
        {
          "output_type": "stream",
          "name": "stdout",
          "text": [
            "\n",
            "❓ Pergunta rápida para testar aprendizado:\n",
            "\n"
          ]
        },
        {
          "output_type": "display_data",
          "data": {
            "text/plain": [
              "<IPython.core.display.Markdown object>"
            ],
            "text/markdown": "> Qual das seguintes alternativas melhor descreve a principal diferença entre um grafo e uma árvore?\n> \n> (a) Grafos não podem ter ciclos, enquanto árvores sempre têm.\n> (b) Árvores são um tipo específico de grafo que não permite ciclos, enquanto grafos podem conter ciclos.\n> (c) Grafos são sempre direcionados, enquanto árvores nunca são.\n> (d) Árvores podem ter múltiplas raízes, enquanto grafos têm apenas uma.\n> \n"
          },
          "metadata": {}
        },
        {
          "output_type": "stream",
          "name": "stdout",
          "text": [
            "\n",
            "📎 Para saber mais:\n",
            "\n"
          ]
        },
        {
          "output_type": "display_data",
          "data": {
            "text/plain": [
              "<IPython.core.display.Markdown object>"
            ],
            "text/markdown": "> Para se aprofundar em grafos, sugiro o curso **\"Estruturas de dados I: listas, pilhas, filas e grafos\"** da Alura.\n> \n> Nesse curso, você aprenderá:\n> \n> *   **Conceitos Fundamentais:** O que são grafos, seus tipos (direcionados, não direcionados, ponderados), e como representá-los (matriz de adjacência, lista de adjacência).\n> *   **Implementação:** Como implementar grafos em uma linguagem de programação (geralmente Python ou Java).\n> *   **Algoritmos:** Algoritmos básicos para manipulação e busca em grafos, como busca em largura (BFS) e busca em profundidade (DFS).\n> *   **Aplicações:** Exemplos de como grafos são usados para resolver problemas do mundo real, como redes sociais, mapas, roteamento, etc.\n> \n> Este curso te dará uma base sólida para entender e aplicar grafos em diversas situações.\n"
          },
          "metadata": {}
        },
        {
          "output_type": "stream",
          "name": "stdout",
          "text": [
            "\n",
            "🔁 Quer aprender outro assunto? (s/n): s\n",
            "\n",
            "Quero aprender sobre: osmose\n",
            "Tempo que tenho (2, 5, 10, 15 minutos): 16\n",
            "\n",
            "🧠 Como você quer aprender?\n",
            "1 - Como se eu tivesse 5 anos 👶\n",
            "2 - Como estudante do ensino médio 🧑\n",
            "3 - Como adulto curioso 👩‍🎓\n",
            "4 - Com analogias e fofoca 🤪\n",
            "5 - Em memes 😂\n",
            "9 - Surpreenda-me com o estilo! 🎲\n",
            "Escolha um número: 4\n",
            "\n",
            "📚 Explicação personalizada:\n",
            "\n"
          ]
        },
        {
          "output_type": "display_data",
          "data": {
            "text/plain": [
              "<IPython.core.display.Markdown object>"
            ],
            "text/markdown": "> Mana, prepare o chá e senta que lá vem história! Sabe quando você tá numa festa e rola aquele boy magia, aí você tá super na sua, plena, mas seus olhos não conseguem evitar de ir na direção dele? Tipo um imã, sabe? A osmose é quase isso, só que com moléculas de água e uma \"festinha\" chamada membrana semipermeável.\n> \n> **A fofoca é a seguinte:**\n> \n> Imagina que você tem dois copos:\n> \n> *   **Copo 1 (a tímidazinha):** Cheio de água pura, tipo você, linda e sem se misturar muito.\n> *   **Copo 2 (a saidinha):** Água com um monte de soluto (sal, açúcar, sei lá, o que tiver dando sopa), tipo você quando já tomou uns bons drinks e tá super sociável.\n> \n> Agora, coloca uma peneira finíssima (a tal membrana semipermeável) entre os dois. Essa peneira é tipo o porteiro da balada: deixa a água passar, mas barra as \"pessoas estranhas\" (o soluto).\n> \n> **O que acontece? O BABADO!**\n> \n> A água do copo 1 (a tímidazinha) começa a passar para o copo 2 (a saidinha) desesperadamente. Por quê? Porque a água é tipo a fofoqueira da festa: odeia ficar sozinha! No copo 1, ela tá lá, sem ninguém pra conversar. Já no copo 2, ela vê a galera toda reunida (o soluto) e pensa: \"Opa, preciso ir lá socializar!\".\n> \n> Essa \"migração\" da água rola até os dois copos ficarem com a mesma \"vibe\", ou seja, com a mesma concentração de soluto. Tipo quando você encontra suas amigas na festa e o nível de fofoca se iguala, sacou?\n> \n> **Resumindo pra não dar tilt no seu cérebro:**\n> \n> Osmose é a passagem da água de um lugar menos concentrado (mais \"pura\") para um lugar mais concentrado (com mais \"gente\"), através de uma membrana que só deixa a água passar. É a água sendo a louca da festa, querendo socializar e equilibrar a situação!\n> \n> E aí, deu pra entender o babado da osmose ou quer que eu desenhe com glitter? 😉\n> \n"
          },
          "metadata": {}
        },
        {
          "output_type": "stream",
          "name": "stdout",
          "text": [
            "\n",
            "❓ Pergunta rápida para testar aprendizado:\n",
            "\n"
          ]
        },
        {
          "output_type": "display_data",
          "data": {
            "text/plain": [
              "<IPython.core.display.Markdown object>"
            ],
            "text/markdown": "> Qual das seguintes opções descreve melhor o processo de osmose?\n> \n> (a) A passagem de soluto de uma região de alta concentração para uma de baixa concentração através de uma membrana semipermeável.\n> (b) A passagem de solvente de uma região de alta concentração para uma de baixa concentração através de uma membrana semipermeável.\n> (c) A passagem de soluto de uma região de baixa concentração para uma de alta concentração através de uma membrana permeável.\n> (d) A passagem de solvente de uma região de baixa concentração para uma de alta concentração através de uma membrana impermeável.\n> \n"
          },
          "metadata": {}
        },
        {
          "output_type": "stream",
          "name": "stdout",
          "text": [
            "\n",
            "📎 Para saber mais:\n",
            "\n"
          ]
        },
        {
          "output_type": "display_data",
          "data": {
            "text/plain": [
              "<IPython.core.display.Markdown object>"
            ],
            "text/markdown": "> Para aprofundar seus conhecimentos sobre osmose, recomendo o curso de **Bioquímica: água, soluções, ácidos e bases**.\n> \n> Embora o curso não seja *exclusivamente* sobre osmose, ele aborda os seguintes temas que são **fundamentais** para entender o processo:\n> \n> *   **Água e suas propriedades:** Essencial para compreender o papel da água como solvente e sua influência na osmose.\n> *   **Soluções e concentrações:** Você aprenderá a calcular concentrações e entender como as diferenças de concentração impulsionam a osmose.\n> *   **Transporte através de membranas:** O curso explora os mecanismos de transporte, incluindo o transporte passivo (onde a osmose se encaixa).\n> \n> Além disso, o curso oferece uma base sólida em bioquímica, o que será útil para entender a osmose em contextos biológicos.\n"
          },
          "metadata": {}
        },
        {
          "output_type": "stream",
          "name": "stdout",
          "text": [
            "\n",
            "🔁 Quer aprender outro assunto? (s/n): s\n",
            "\n",
            "Quero aprender sobre: angular\n",
            "Tempo que tenho (2, 5, 10, 15 minutos): 50\n",
            "\n",
            "🧠 Como você quer aprender?\n",
            "1 - Como se eu tivesse 5 anos 👶\n",
            "2 - Como estudante do ensino médio 🧑\n",
            "3 - Como adulto curioso 👩‍🎓\n",
            "4 - Com analogias e fofoca 🤪\n",
            "5 - Em memes 😂\n",
            "9 - Surpreenda-me com o estilo! 🎲\n",
            "Escolha um número: 9\n",
            "✨ Estilo sorteado: fofoca\n",
            "\n",
            "📚 Explicação personalizada:\n",
            "\n"
          ]
        },
        {
          "output_type": "display_data",
          "data": {
            "text/plain": [
              "<IPython.core.display.Markdown object>"
            ],
            "text/markdown": "> Mana, prepare o café e a pipoca que o babado é forte! Senta que lá vem a fofoca do Angular, mas relaxa, vou te contar tudo tintim por tintim, como se a gente tivesse no salão de beleza! 😉\n> \n> **O que é essa tal de Angular, afinal?**\n> \n> Imagina que você tem um monte de LEGO, sabe? Aqueles bloquinhos que você pode montar o que quiser. O Angular é tipo isso, só que para criar sites e aplicativos. É um \"framework\", ou seja, um esqueleto, uma estrutura pronta que te ajuda a construir as coisas de um jeito organizado e sem virar bagunça. Sabe aquela amiga que organiza o rolê todo e nada sai do controle? Então, Angular é essa amiga!\n> \n> **Por que usar essa parada?**\n> \n> Ah, amiga, porque facilita a vida! Pensa assim:\n> \n> *   **Organização é tudo!** Com Angular, cada parte do seu site (um botão, uma tela, um formulário) vira um \"componente\" separado. Tipo organizar as roupas por tipo e cor no armário, sabe? Facilita achar e mexer depois.\n> *   **Reaproveitar é a chave!** Sabe aquela roupa que você usa pra ir pra balada e pro barzinho? Os componentes do Angular são assim, você cria uma vez e usa em vários lugares do site. Economia de tempo e de \"roupa\"!\n> *   **Deixa tudo mais rápido!** Angular usa uns truques de mágica pra fazer o site carregar mais rápido e não travar. Ninguém merece site lento, né? Credo!\n> *   **Google tá por trás!** Sim, a fofoca é que o Google que cuida do Angular. Ou seja, tem gente boa trabalhando pra manter tudo moderno e funcionando.\n> \n> **Como essa mágica acontece?**\n> \n> O Angular usa umas paradas meio \"nerd\", mas vou te explicar de um jeito fácil:\n> \n> *   **TypeScript:** É tipo um \"Photoshop\" do JavaScript. Ajuda a deixar o código mais bonito, organizado e sem erros.\n> *   **Componentes:** Já te expliquei, né? São os bloquinhos de LEGO do site.\n> *   **Módulos:** Imagina que você tem várias caixas de LEGO, cada uma com um tema (castelo, nave espacial, etc.). Os módulos são essas caixas, que agrupam os componentes relacionados.\n> *   **Templates:** É o \"molde\" de como o componente vai aparecer na tela. Tipo a receita do bolo, sabe?\n> *   **Data Binding:** É tipo um \"telefone sem fio\" entre o componente e o template. Se você muda uma coisa no componente, o template atualiza automaticamente, e vice-versa.\n> \n> **E pra que serve tudo isso?**\n> \n> Pra criar desde sites simples até aplicativos super complexos, tipo Instagram, Netflix, essas coisas. O céu é o limite, amiga!\n> \n> **Resumindo a fofoca:**\n> \n> Angular é um framework que te ajuda a criar sites e aplicativos de um jeito organizado, rápido e reaproveitável. É tipo ter um personal stylist pro seu código! 😉\n> \n> E aí, amiga, deu pra entender o babado do Angular? Se ficou alguma dúvida, pode perguntar que eu te conto tudo nos mínimos detalhes!\n> \n"
          },
          "metadata": {}
        },
        {
          "output_type": "stream",
          "name": "stdout",
          "text": [
            "\n",
            "❓ Pergunta rápida para testar aprendizado:\n",
            "\n"
          ]
        },
        {
          "output_type": "display_data",
          "data": {
            "text/plain": [
              "<IPython.core.display.Markdown object>"
            ],
            "text/markdown": "> Qual das seguintes opções representa a maneira correta de realizar o data binding bidirecional em Angular?\n> \n> a) `{{ minhaVariavel }}`\n> b) `[minhaPropriedade]=\"minhaVariavel\"`\n> c) `(evento)=\"minhaFuncao()\"`\n> d) `[(ngModel)]=\"minhaVariavel\"`\n> \n"
          },
          "metadata": {}
        },
        {
          "output_type": "stream",
          "name": "stdout",
          "text": [
            "\n",
            "📎 Para saber mais:\n",
            "\n"
          ]
        },
        {
          "output_type": "display_data",
          "data": {
            "text/plain": [
              "<IPython.core.display.Markdown object>"
            ],
            "text/markdown": "> Com certeza! Para aprofundar seus conhecimentos em Angular, sugiro o curso **\"Angular: Fundamentos\"** da Alura.\n> \n> Nesse curso, você irá construir sua primeira aplicação com Angular, entendendo desde a criação do projeto até a componentização, data binding, diretivas e requisições HTTP. É um ótimo ponto de partida para quem quer dominar os fundamentos da ferramenta.\n> \n> [https://www.alura.com.br/curso-online-angular-fundamentos](https://www.alura.com.br/curso-online-angular-fundamentos)\n> \n"
          },
          "metadata": {}
        },
        {
          "output_type": "stream",
          "name": "stdout",
          "text": [
            "\n",
            "🔁 Quer aprender outro assunto? (s/n): s\n",
            "\n",
            "Quero aprender sobre: java\n",
            "Tempo que tenho (2, 5, 10, 15 minutos): 15\n",
            "\n",
            "🧠 Como você quer aprender?\n",
            "1 - Como se eu tivesse 5 anos 👶\n",
            "2 - Como estudante do ensino médio 🧑\n",
            "3 - Como adulto curioso 👩‍🎓\n",
            "4 - Com analogias e fofoca 🤪\n",
            "5 - Em memes 😂\n",
            "9 - Surpreenda-me com o estilo! 🎲\n",
            "Escolha um número: 9\n",
            "✨ Estilo sorteado: ensino_medio\n",
            "\n",
            "📚 Explicação personalizada:\n",
            "\n"
          ]
        },
        {
          "output_type": "display_data",
          "data": {
            "text/plain": [
              "<IPython.core.display.Markdown object>"
            ],
            "text/markdown": "> Olá! Vamos entender o que é Java de um jeito fácil e rápido. Imagine que você quer dar uma receita para alguém, mas essa pessoa pode usar diferentes tipos de fogão (a gás, elétrico, etc.). Java é como essa receita universal!\n> \n> **O que é Java?**\n> \n> Java é uma linguagem de programação, como se fosse um idioma que você usa para \"conversar\" com o computador e dar instruções para ele. Só que Java tem um truque especial: ela funciona em quase todos os computadores e celulares, não importa a marca!\n> \n> **Por que Java é tão especial?**\n> \n> *   **\"Escreva uma vez, rode em qualquer lugar\"**: Essa é a frase famosa sobre Java. Significa que você escreve o código uma vez, e ele roda em computadores Windows, Macs, celulares Android e até em alguns videogames!\n> *   **Muito usada**: Java é super popular! Muitas empresas usam Java para criar aplicativos, sites e sistemas importantes.\n> *   **Organizada**: Java te força a organizar seu código de um jeito mais \"arrumadinho\", o que ajuda a evitar bagunça quando os programas ficam grandes.\n> \n> **Como Java faz isso?**\n> \n> Java tem um \"tradutor\" secreto chamado **JVM** (Máquina Virtual Java). Pense assim:\n> \n> 1.  Você escreve o código Java (a receita).\n> 2.  O código é \"compilado\", ou seja, transformado em um código especial que a JVM entende (como se a receita fosse traduzida para um idioma que só a JVM entende).\n> 3.  A JVM pega esse código e o transforma em instruções que o computador entende (a JVM adapta a receita para o tipo de fogão que você tem).\n> \n> **Exemplo Prático:**\n> \n> Imagine que você quer criar um aplicativo simples que mostra a mensagem \"Olá, Mundo!\" na tela.\n> \n> Em Java, o código seria algo parecido com isso:\n> \n> ```java\n> public class Main {\n>   public static void main(String[] args) {\n>     System.out.println(\"Olá, Mundo!\");\n>   }\n> }\n> ```\n> \n> *   `public class Main`:  É como o nome do seu programa.\n> *   `public static void main(String[] args)`: É onde o programa começa a rodar.\n> *   `System.out.println(\"Olá, Mundo!\")`: Essa linha manda o computador mostrar a mensagem \"Olá, Mundo!\" na tela.\n> \n> Para rodar esse código, você precisa:\n> \n> 1.  Ter o programa Java instalado no seu computador (o \"kit de ferramentas\" para criar coisas em Java).\n> 2.  Salvar o código em um arquivo com o nome `Main.java`.\n> 3.  Usar o programa Java para \"compilar\" o código, transformando-o em um arquivo que a JVM entende.\n> 4.  Rodar o arquivo compilado usando a JVM.\n> \n> E pronto! A mensagem \"Olá, Mundo!\" vai aparecer na tela.\n> \n> **Onde Java é usado?**\n> \n> *   **Aplicativos Android**: Muitos aplicativos que você usa no celular são feitos em Java.\n> *   **Sites**: Algumas partes de sites grandes usam Java para funcionar.\n> *   **Jogos**: Minecraft, por exemplo, foi feito em Java.\n> *   **Sistemas de empresas**: Muitos bancos e lojas usam Java para seus sistemas internos.\n> \n> **Java é difícil?**\n> \n> No começo, pode parecer um pouco complicado, mas com a prática, você pega o jeito! Existem muitos cursos e tutoriais online para te ajudar a aprender Java.\n> \n> **Resumindo:**\n> \n> Java é uma linguagem de programação poderosa e muito usada, que funciona em quase todos os lugares. Se você quer criar aplicativos, sites ou jogos, aprender Java pode ser uma ótima ideia!\n> \n"
          },
          "metadata": {}
        },
        {
          "output_type": "stream",
          "name": "stdout",
          "text": [
            "\n",
            "❓ Pergunta rápida para testar aprendizado:\n",
            "\n"
          ]
        },
        {
          "output_type": "display_data",
          "data": {
            "text/plain": [
              "<IPython.core.display.Markdown object>"
            ],
            "text/markdown": "> Qual a principal diferença entre as interfaces `List` e `Set` em Java, e qual caso de uso seria mais adequado para cada uma?\n> \n"
          },
          "metadata": {}
        },
        {
          "output_type": "stream",
          "name": "stdout",
          "text": [
            "\n",
            "📎 Para saber mais:\n",
            "\n"
          ]
        },
        {
          "output_type": "display_data",
          "data": {
            "text/plain": [
              "<IPython.core.display.Markdown object>"
            ],
            "text/markdown": "> Para se aprofundar em Java, sugiro o curso **\"Java e Orientação a Objetos\"**. Ele é um excelente ponto de partida para quem quer dominar os fundamentos da linguagem e os princípios da Orientação a Objetos, que são cruciais para construir aplicações robustas e bem estruturadas.\n> \n> Nesse curso, você vai aprender desde os conceitos básicos de Java até tópicos mais avançados, como:\n> \n> *   Sintaxe e estrutura da linguagem\n> *   Classes e objetos\n> *   Encapsulamento, herança e polimorfismo\n> *   Tratamento de exceções\n> *   Collections\n> *   E muito mais!\n> \n> Com esse curso, você estará preparado para construir seus próprios projetos em Java e dar um grande passo na sua carreira como desenvolvedor.\n"
          },
          "metadata": {}
        },
        {
          "output_type": "stream",
          "name": "stdout",
          "text": [
            "\n",
            "🔁 Quer aprender outro assunto? (s/n): n\n",
            "\n",
            "Até a próxima! 👋\n"
          ]
        }
      ]
    }
  ]
}